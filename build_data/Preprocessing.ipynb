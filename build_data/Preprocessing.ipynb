{
 "cells": [
  {
   "cell_type": "code",
   "execution_count": 1,
   "metadata": {
    "collapsed": true
   },
   "outputs": [],
   "source": [
    "import os\n",
    "import sys\n",
    "import random\n",
    "import shutil"
   ]
  },
  {
   "cell_type": "code",
   "execution_count": 2,
   "metadata": {
    "collapsed": true
   },
   "outputs": [],
   "source": [
    "subset_classes = ['n02110958',\n",
    " 'n03947888',\n",
    " 'n02110341',\n",
    " 'n03344393',\n",
    " 'n02111277',\n",
    " 'n04487081',\n",
    " 'n03100240',\n",
    " 'n02110806',\n",
    " 'n03991062',\n",
    " 'n02111500',\n",
    " 'n01514668',\n",
    " 'n03785016',\n",
    " 'n04037443',\n",
    " 'n03792782',\n",
    " 'n04147183',\n",
    " 'n02403003',\n",
    " 'n03447447',\n",
    " 'n02123045',\n",
    " 'n02123159',\n",
    " 'n01514859',\n",
    " 'n03769881',\n",
    " 'n04285008',\n",
    " 'n02917067',\n",
    " 'n10565667',\n",
    " 'n03670208',\n",
    " 'n02389026',\n",
    " 'n03777568',\n",
    " 'n03770679',\n",
    " 'n02835271',\n",
    " 'n02113978',\n",
    " 'n02930766',\n",
    " 'n02690373',\n",
    " 'n03179701',\n",
    " 'n04099969',\n",
    " 'n04429376',\n",
    " 'n04152593',\n",
    " 'n02123597',\n",
    " 'n02123394',\n",
    " 'n04606251',\n",
    " 'n02791124',\n",
    " 'n03376595',\n",
    " 'n04591713',\n",
    " 'n03594945',\n",
    " 'n10148035',\n",
    " 'n02814533',\n",
    " 'n09835506',\n",
    " 'n02701002',\n",
    " 'n02111129',\n",
    " 'n02124075',\n",
    " 'n03982430',\n",
    " 'n04344873',\n",
    " 'n04146614']"
   ]
  },
  {
   "cell_type": "code",
   "execution_count": 3,
   "metadata": {
    "collapsed": true
   },
   "outputs": [],
   "source": [
    "source_train = '/imagenet/preprocessed/raw-data/train/'\n",
    "source_val = '/imagenet/preprocessed/raw-data/validation/'\n",
    "target_train = '/deepack/model_tailoring/raw_data/raw_train/'\n",
    "target_val = '/deepack/model_tailoring/raw_data/raw_val/'"
   ]
  },
  {
   "cell_type": "code",
   "execution_count": 7,
   "metadata": {
    "collapsed": false
   },
   "outputs": [],
   "source": [
    "for itr, item in enumerate(subset_classes):\n",
    "    shutil.copytree(source_train + item, target_train + item)\n",
    "    shutil.copytree(source_val + item, target_val + item)"
   ]
  },
  {
   "cell_type": "code",
   "execution_count": 4,
   "metadata": {
    "collapsed": false
   },
   "outputs": [
    {
     "name": "stdout",
     "output_type": "stream",
     "text": [
      "#test_images :  2600\n",
      "#train_images :  66516\n"
     ]
    }
   ],
   "source": [
    "test_images = 0\n",
    "train_images = 0\n",
    "\n",
    "for itr, item in enumerate(subset_classes):\n",
    "    train_images += len(os.listdir(target_train + item))\n",
    "    test_images += len(os.listdir(target_val + item))\n",
    "\n",
    "print \"#test_images : \", test_images\n",
    "print \"#train_images : \", train_images"
   ]
  },
  {
   "cell_type": "code",
   "execution_count": null,
   "metadata": {
    "collapsed": true
   },
   "outputs": [],
   "source": []
  },
  {
   "cell_type": "code",
   "execution_count": 3,
   "metadata": {
    "collapsed": false
   },
   "outputs": [],
   "source": [
    "cls = os.listdir('imagenet_subset/')"
   ]
  },
  {
   "cell_type": "code",
   "execution_count": 4,
   "metadata": {
    "collapsed": false
   },
   "outputs": [],
   "source": [
    "for item in cls:\n",
    "    os.mkdir('imagenet_subset_val/'+item)"
   ]
  },
  {
   "cell_type": "code",
   "execution_count": 5,
   "metadata": {
    "collapsed": false
   },
   "outputs": [],
   "source": [
    "cat0 = os.listdir('imagenet_subset/'+cls[0])"
   ]
  },
  {
   "cell_type": "code",
   "execution_count": 6,
   "metadata": {
    "collapsed": false
   },
   "outputs": [],
   "source": [
    "for cat in cls:\n",
    "    cat_imgs = os.listdir('imagenet_subset/'+cat)\n",
    "    to_move = random.sample(cat_imgs,50)\n",
    "    for img in to_move:\n",
    "        shutil.move('imagenet_subset/'+cat+'/'+img, 'imagenet_subset_val/'+cat+'/'+img)"
   ]
  },
  {
   "cell_type": "code",
   "execution_count": 14,
   "metadata": {
    "collapsed": false
   },
   "outputs": [],
   "source": [
    "temp_sum = 0\n",
    "for item in cls:\n",
    "    temp_sum += len(os.listdir('imagenet_subset_val/'+item))"
   ]
  },
  {
   "cell_type": "code",
   "execution_count": 13,
   "metadata": {
    "collapsed": false
   },
   "outputs": [
    {
     "data": {
      "text/plain": [
       "63916"
      ]
     },
     "execution_count": 13,
     "metadata": {},
     "output_type": "execute_result"
    }
   ],
   "source": [
    "temp_sum"
   ]
  },
  {
   "cell_type": "code",
   "execution_count": 15,
   "metadata": {
    "collapsed": false
   },
   "outputs": [
    {
     "data": {
      "text/plain": [
       "2600"
      ]
     },
     "execution_count": 15,
     "metadata": {},
     "output_type": "execute_result"
    }
   ],
   "source": [
    "temp_sum"
   ]
  }
 ],
 "metadata": {
  "kernelspec": {
   "display_name": "Python [Root]",
   "language": "python",
   "name": "Python [Root]"
  },
  "language_info": {
   "codemirror_mode": {
    "name": "ipython",
    "version": 2
   },
   "file_extension": ".py",
   "mimetype": "text/x-python",
   "name": "python",
   "nbconvert_exporter": "python",
   "pygments_lexer": "ipython2",
   "version": "2.7.12"
  }
 },
 "nbformat": 4,
 "nbformat_minor": 0
}
