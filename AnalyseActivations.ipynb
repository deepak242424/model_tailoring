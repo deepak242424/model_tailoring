{
 "cells": [
  {
   "cell_type": "code",
   "execution_count": 2,
   "metadata": {
    "collapsed": true
   },
   "outputs": [],
   "source": [
    "import numpy as np\n",
    "import cPickle as cp\n",
    "np.set_printoptions(suppress=True)"
   ]
  },
  {
   "cell_type": "code",
   "execution_count": 3,
   "metadata": {
    "collapsed": false
   },
   "outputs": [],
   "source": [
    "with open('test.save', 'rb') as pf:\n",
    "    data = cp.load(pf)"
   ]
  },
  {
   "cell_type": "code",
   "execution_count": 4,
   "metadata": {
    "collapsed": false
   },
   "outputs": [],
   "source": [
    "activations = data[0]\n",
    "labels = data[1]\n",
    "predictions = data[2]"
   ]
  },
  {
   "cell_type": "code",
   "execution_count": 5,
   "metadata": {
    "collapsed": false
   },
   "outputs": [
    {
     "name": "stdout",
     "output_type": "stream",
     "text": [
      "[468 268 244 627 281 436 345 466 742 527]\n",
      "[468 268 256 627 282 436 345 466 782 782]\n"
     ]
    }
   ],
   "source": [
    "print predictions\n",
    "print labels"
   ]
  },
  {
   "cell_type": "code",
   "execution_count": 6,
   "metadata": {
    "collapsed": false
   },
   "outputs": [
    {
     "data": {
      "text/plain": [
       "(array([ 0,  0,  0, ..., 13, 13, 13]),\n",
       " array([ 0,  0,  0, ..., 13, 13, 13]),\n",
       " array([  0,   1,   8, ..., 506, 507, 509]))"
      ]
     },
     "execution_count": 6,
     "metadata": {},
     "output_type": "execute_result"
    }
   ],
   "source": [
    "np.nonzero(activations[0])"
   ]
  },
  {
   "cell_type": "code",
   "execution_count": 7,
   "metadata": {
    "collapsed": false
   },
   "outputs": [
    {
     "data": {
      "text/plain": [
       "(10, 14, 14, 512)"
      ]
     },
     "execution_count": 7,
     "metadata": {},
     "output_type": "execute_result"
    }
   ],
   "source": [
    "activations.shape"
   ]
  },
  {
   "cell_type": "code",
   "execution_count": 8,
   "metadata": {
    "collapsed": false
   },
   "outputs": [
    {
     "data": {
      "text/plain": [
       "795765"
      ]
     },
     "execution_count": 8,
     "metadata": {},
     "output_type": "execute_result"
    }
   ],
   "source": [
    "(10*14*14*512)-207755"
   ]
  },
  {
   "cell_type": "code",
   "execution_count": 9,
   "metadata": {
    "collapsed": false
   },
   "outputs": [],
   "source": [
    "a = np.sum(activations, axis=(1,2))"
   ]
  },
  {
   "cell_type": "code",
   "execution_count": 10,
   "metadata": {
    "collapsed": false
   },
   "outputs": [
    {
     "data": {
      "text/plain": [
       "(10, 512)"
      ]
     },
     "execution_count": 10,
     "metadata": {},
     "output_type": "execute_result"
    }
   ],
   "source": [
    "a.shape\n"
   ]
  },
  {
   "cell_type": "code",
   "execution_count": 13,
   "metadata": {
    "collapsed": false
   },
   "outputs": [],
   "source": [
    "with open('/deepack/dumps_relu/test_0.save', 'rb') as pf:\n",
    "    batch_0 = cp.load(pf)"
   ]
  },
  {
   "cell_type": "code",
   "execution_count": 14,
   "metadata": {
    "collapsed": false
   },
   "outputs": [
    {
     "data": {
      "text/plain": [
       "(150,)"
      ]
     },
     "execution_count": 14,
     "metadata": {},
     "output_type": "execute_result"
    }
   ],
   "source": [
    "layers = []\n",
    "for itr,item in enumerate(batch_0[0]):\n",
    "    layers.append(item)    \n",
    "labels = batch_0[1]\n",
    "predictions = batch_0[2]\n",
    "\n",
    "labels.shape\n",
    "predictions.shape"
   ]
  },
  {
   "cell_type": "code",
   "execution_count": 15,
   "metadata": {
    "collapsed": false
   },
   "outputs": [],
   "source": [
    "for itr, m in enumerate(layers):\n",
    "    layers[itr] = np.hstack((layers[itr], layers[itr]))"
   ]
  },
  {
   "cell_type": "code",
   "execution_count": 16,
   "metadata": {
    "collapsed": false
   },
   "outputs": [
    {
     "data": {
      "text/plain": [
       "(150, 128)"
      ]
     },
     "execution_count": 16,
     "metadata": {},
     "output_type": "execute_result"
    }
   ],
   "source": [
    "layers[0].shape\n"
   ]
  },
  {
   "cell_type": "code",
   "execution_count": 17,
   "metadata": {
    "collapsed": false
   },
   "outputs": [],
   "source": [
    "layers = []\n",
    "for itr,item in enumerate(batch_0[0]):\n",
    "    layers.append(item)    \n",
    "labels = batch_0[1]\n",
    "predictions = batch_0[2]\n",
    "\n",
    "import tqdm\n",
    "for itr in range(425):\n",
    "    with open('/deepack/dumps_relu/test_' + str(itr+1) + '.save', 'rb') as pf:\n",
    "        batch = cp.load(pf)\n",
    "    batch_layers = []\n",
    "    for itr,item in enumerate(batch[0]):\n",
    "        batch_layers.append(item)    \n",
    "    batch_labels = batch[1]\n",
    "    batch_predictions = batch[2]\n",
    "    \n",
    "    for idx, m in enumerate(layers):\n",
    "        layers[idx] = np.vstack((layers[idx], batch_layers[idx]))\n",
    "    labels = np.hstack((labels, batch_labels))\n",
    "    predictions = np.hstack((predictions, batch_predictions))"
   ]
  },
  {
   "cell_type": "code",
   "execution_count": 18,
   "metadata": {
    "collapsed": false
   },
   "outputs": [
    {
     "name": "stdout",
     "output_type": "stream",
     "text": [
      "(63900,)\n",
      "(63900,)\n",
      "(63900, 64)\n"
     ]
    }
   ],
   "source": [
    "print labels.shape\n",
    "print predictions.shape\n",
    "print layers[0].shape"
   ]
  },
  {
   "cell_type": "code",
   "execution_count": 19,
   "metadata": {
    "collapsed": false
   },
   "outputs": [],
   "source": [
    "with open('/deepack/relu_summed_activations.save', 'wb') as pf:\n",
    "        cp.dump([layers, labels, predictions], pf, cp.HIGHEST_PROTOCOL)"
   ]
  },
  {
   "cell_type": "code",
   "execution_count": 20,
   "metadata": {
    "collapsed": false
   },
   "outputs": [
    {
     "data": {
      "text/plain": [
       "(63900, 64)"
      ]
     },
     "execution_count": 20,
     "metadata": {},
     "output_type": "execute_result"
    }
   ],
   "source": [
    "layers[0].shape"
   ]
  },
  {
   "cell_type": "code",
   "execution_count": 21,
   "metadata": {
    "collapsed": false
   },
   "outputs": [
    {
     "name": "stdout",
     "output_type": "stream",
     "text": [
      "0.0\n"
     ]
    }
   ],
   "source": [
    "print np.min(layers[0])"
   ]
  },
  {
   "cell_type": "code",
   "execution_count": null,
   "metadata": {
    "collapsed": true
   },
   "outputs": [],
   "source": [
    "with open('/deepack/dumps_relu/test_0.save', 'rb') as pf:\n",
    "    batch_0 = cp.load(pf)\n",
    "\n",
    "layers = batch_0[0] \n",
    "labels = batch_0[1]\n",
    "predictions = batch_0[2]\n",
    "\n",
    "import tqdm\n",
    "for itr in range(425):\n",
    "    with open('/deepack/dumps_relu/test_' + str(itr+1) + '.save', 'rb') as pf:\n",
    "        batch = cp.load(pf)\n",
    "    batch_layers = batch[0]\n",
    "    batch_labels = batch[1]\n",
    "    batch_predictions = batch[2]\n",
    "    \n",
    "    for idx, m in enumerate(layers):\n",
    "        layers[idx] = np.vstack((layers[idx], batch_layers[idx]))\n",
    "    labels = np.hstack((labels, batch_labels))\n",
    "    predictions = np.hstack((predictions, batch_predictions))"
   ]
  }
 ],
 "metadata": {
  "kernelspec": {
   "display_name": "Python [Root]",
   "language": "python",
   "name": "Python [Root]"
  },
  "language_info": {
   "codemirror_mode": {
    "name": "ipython",
    "version": 2
   },
   "file_extension": ".py",
   "mimetype": "text/x-python",
   "name": "python",
   "nbconvert_exporter": "python",
   "pygments_lexer": "ipython2",
   "version": "2.7.12"
  }
 },
 "nbformat": 4,
 "nbformat_minor": 0
}
